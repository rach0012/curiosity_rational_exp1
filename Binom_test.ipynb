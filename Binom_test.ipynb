{
 "cells": [
  {
   "cell_type": "code",
   "execution_count": 2,
   "metadata": {},
   "outputs": [
    {
     "data": {
      "text/plain": [
       "0.026544245711699471"
      ]
     },
     "execution_count": 2,
     "metadata": {},
     "output_type": "execute_result"
    }
   ],
   "source": [
    "import scipy.stats\n",
    "import numpy as np\n"
   ]
  },
  {
   "cell_type": "code",
   "execution_count": 16,
   "metadata": {},
   "outputs": [
    {
     "name": "stdout",
     "output_type": "stream",
     "text": [
      "0.982258219745\n",
      "0.477112977101\n",
      "0.0147686431124\n",
      "0.0135692821802\n",
      "0.15080756687\n",
      "0.470131026936\n",
      "0.0345612290402\n",
      "0.846500912276\n",
      "0.999999611628\n",
      "0.57857053632\n",
      "1.0\n",
      "1.0\n"
     ]
    }
   ],
   "source": [
    "#Phase 1, condition 1\n",
    "a = np.array([13,1,31,31,2,1,29,17,4,3,0,0,0])\n",
    "b = np.array([132,132,132,132,132,132,132,132,132,132,132,132,132])\n",
    "c = np.array([0.1582,0.0049,0.1589,0.1579,0.0052,0.0048,0.1566,0.1573,0.1580,0.0227,0.0054 ,0.0049,0.0051])\n",
    "for i in range(12):\n",
    "    print(scipy.stats.binom_test(a[i], b[i], c[i], alternative='greater'))"
   ]
  },
  {
   "cell_type": "code",
   "execution_count": 17,
   "metadata": {},
   "outputs": [
    {
     "name": "stdout",
     "output_type": "stream",
     "text": [
      "0.873331932311\n",
      "0.281696735579\n",
      "0.130285807587\n",
      "0.00560832744661\n",
      "0.146015559212\n",
      "1.0\n",
      "0.0538929315397\n",
      "0.927360606066\n",
      "0.999987458601\n",
      "0.634791574873\n",
      "1.0\n",
      "1.0\n"
     ]
    }
   ],
   "source": [
    "#Phase 1, condition 2 (uniform)\n",
    "\n",
    "a = np.array([15,1,24,30,2,0,26,14,5,1,0,0,0])\n",
    "b = np.array([118,118,118,118,118,118,118,118,118,118,118,118,118])\n",
    "c = np.array([0.1612,0.0028,0.1609,0.1598,0.0057,0.0029,0.1604,0.1627,0.1611,0.0085,0.0028,0.0057,0.0056])\n",
    "for i in range(12):\n",
    "    print(scipy.stats.binom_test(a[i], b[i], c[i], alternative='greater'))"
   ]
  },
  {
   "cell_type": "code",
   "execution_count": 18,
   "metadata": {},
   "outputs": [
    {
     "name": "stdout",
     "output_type": "stream",
     "text": [
      "0.997222467151\n",
      "0.0328979817148\n",
      "0.00216532102076\n",
      "0.205932185751\n",
      "0.000262986838703\n",
      "0.883239359883\n",
      "0.203945585403\n",
      "0.44416106662\n",
      "0.999728293679\n",
      "0.57857053632\n",
      "0.975473379051\n",
      "1.0\n"
     ]
    }
   ],
   "source": [
    "#Phase 2, condition 1 (confidence)\n",
    "\n",
    "a = np.array([8, 8,30,21,14, 2,21,18, 6, 3, 1, 0, 0])\n",
    "b = np.array([132,132,132,132,132,132,132,132,132,132,132,132,132])\n",
    "c = np.array([0.1312,0.0280,0.1332,0.1315,0.0354,0.0277,0.1313,0.1294,0.1314,0.0227,0.0277,0.0353,0.0354])\n",
    "for i in range(12):\n",
    "    print(scipy.stats.binom_test(a[i], b[i], c[i], alternative='greater'))"
   ]
  },
  {
   "cell_type": "code",
   "execution_count": 19,
   "metadata": {},
   "outputs": [
    {
     "name": "stdout",
     "output_type": "stream",
     "text": [
      "0.00191437248791\n",
      "0.594952568685\n",
      "0.0243375762239\n",
      "0.980457198447\n",
      "0.0298536386529\n",
      "0.816332460722\n",
      "0.881268319999\n",
      "0.736314840286\n",
      "0.989715775757\n",
      "0.634791574873\n",
      "0.320045802111\n",
      "1.0\n"
     ]
    }
   ],
   "source": [
    "#Phase 2, condition 2 (uniform)\n",
    "\n",
    "a = np.array([29, 3,25,10, 6, 2,13,15, 9, 1, 4, 0, 1])\n",
    "b = np.array([118,118,118,118,118,118,118,118,118,118,118,118,118])\n",
    "c = np.array([0.1420,0.0260,0.1417,0.1434,0.0197,0.0261,0.1436,0.1439,0.1413,0.0085,0.0242,0.0197,0.0199])\n",
    "for i in range(12):\n",
    "    print(scipy.stats.binom_test(a[i], b[i], c[i], alternative='greater'))"
   ]
  },
  {
   "cell_type": "code",
   "execution_count": null,
   "metadata": {},
   "outputs": [],
   "source": []
  }
 ],
 "metadata": {
  "kernelspec": {
   "display_name": "Python 3",
   "language": "python",
   "name": "python3"
  },
  "language_info": {
   "codemirror_mode": {
    "name": "ipython",
    "version": 3
   },
   "file_extension": ".py",
   "mimetype": "text/x-python",
   "name": "python",
   "nbconvert_exporter": "python",
   "pygments_lexer": "ipython3",
   "version": "3.5.3"
  }
 },
 "nbformat": 4,
 "nbformat_minor": 1
}
